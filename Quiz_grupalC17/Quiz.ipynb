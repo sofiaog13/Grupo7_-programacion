{
  "nbformat": 4,
  "nbformat_minor": 0,
  "metadata": {
    "colab": {
      "provenance": [],
      "collapsed_sections": []
    },
    "kernelspec": {
      "name": "python3",
      "display_name": "Python 3"
    },
    "language_info": {
      "name": "python"
    }
  },
  "cells": [
    {
      "cell_type": "code",
      "execution_count": null,
      "metadata": {
        "colab": {
          "base_uri": "https://localhost:8080/"
        },
        "id": "GruCXwsDvwkV",
        "outputId": "8d13cfcc-a7b7-49ce-bf07-9644dd008660"
      },
      "outputs": [
        {
          "output_type": "stream",
          "name": "stdout",
          "text": [
            "Pruebas no presenciales:  https://sede.fg.ull.es/es/idioma/detalle/A15050163/aleman-prueba-de-nivel-para-cursos-segundo-cuatrimestre\n",
            "Pruebas no presenciales:  https://sede.fg.ull.es/es/idioma/detalle/A15050167/espa-ol-prueba-de-nivel-para-cursos-segundo-cuatrimestre\n"
          ]
        }
      ],
      "source": [
        "import json\n",
        "import requests\n",
        "from pprint import pprint\n",
        "r = requests.get(\"https://fp.josedomingo.org/lmgs/u05/ej2.json\")\n",
        "r=json.loads(r.text)\n",
        "def prueba(r):\n",
        "  for i in (r):\n",
        "    if i.get('TipoFormacion')!='Presencial':\n",
        "      print(f'Pruebas no presenciales: ',i.get('URL'))\n",
        "prueba(r)"
      ]
    },
    {
      "cell_type": "code",
      "source": [
        "def prueba(r):\n",
        "  for i in (r):\n",
        "    if i.get('Horas')>2:\n",
        "      print(f'Titulo de la prueba: ',i.get('Titulo'))\n",
        "prueba(r)"
      ],
      "metadata": {
        "colab": {
          "base_uri": "https://localhost:8080/"
        },
        "id": "EcOO5ZclzjH_",
        "outputId": "615994d0-0518-4c44-a43e-11ae56e079a9"
      },
      "execution_count": null,
      "outputs": [
        {
          "output_type": "stream",
          "name": "stdout",
          "text": [
            "Titulo de la prueba:  Inglés - Prueba de nivel - para cursos de Inglés para la Docencia y preparatorio de GESE Trinity\n",
            "Titulo de la prueba:  Inglés - Prueba de nivel - Para cursos segundo cuatrimestre\n"
          ]
        }
      ]
    },
    {
      "cell_type": "code",
      "source": [
        "n=input('Ingrese la ID:')\n",
        "def prueba(r):\n",
        "  contador=0\n",
        "  for i in (r):\n",
        "    if i.get('ID')==n:\n",
        "      contador+=1\n",
        "      print('Titulo de la prueba: ',i.get('Titulo'))\n",
        "      for j in i.get(\"Profesorado\"):\n",
        "        print('Profesor',j.get('NombreCompleto'))\n",
        "prueba(r)"
      ],
      "metadata": {
        "colab": {
          "base_uri": "https://localhost:8080/"
        },
        "id": "CC81MoaA08jC",
        "outputId": "34777ed2-973e-4774-dae8-4bf3e4224318"
      },
      "execution_count": null,
      "outputs": [
        {
          "output_type": "stream",
          "name": "stdout",
          "text": [
            "Ingrese la ID:A15050007\n",
            "Titulo de la prueba:  Inglés - Prueba de nivel - Para cursos segundo cuatrimestre\n",
            "Profesor María Luisa Capón Mouriz\n",
            "Profesor Richard James Murison\n",
            "Profesor María Isabel Rodríguez Rodríguez\n",
            "Profesor Beatriz Freire Betancor\n",
            "Profesor Peggy Gerd Henriksson Carlsson\n",
            "Profesor Eva Miriam Amaral Ribeiro Sampaio de Andrade\n",
            "Profesor Marta María González Orta\n"
          ]
        }
      ]
    },
    {
      "cell_type": "code",
      "source": [
        "from google.colab import drive\n",
        "drive.mount('/content/drive')"
      ],
      "metadata": {
        "colab": {
          "base_uri": "https://localhost:8080/"
        },
        "id": "-RkSF942ZGqh",
        "outputId": "7d7c0d79-fd05-43be-da8c-6d6fcba35543"
      },
      "execution_count": null,
      "outputs": [
        {
          "output_type": "stream",
          "name": "stdout",
          "text": [
            "Mounted at /content/drive\n"
          ]
        }
      ]
    },
    {
      "cell_type": "code",
      "source": [
        "data={}\n",
        "c=0\n",
        "for i in r:\n",
        "  c+=1\n",
        "  p=str(c)\n",
        "  d=\"titulo \"+p\n",
        "  data[d]=i.get(\"Titulo\")\n",
        "  for j in i.get(\"Profesorado\"):\n",
        "    h=\"profesor\"+p\n",
        "    prof=j[\"NombreCompleto\"]\n",
        "    if h in data:\n",
        "          data[h]+=\", \"\n",
        "          data[h]+=prof\n",
        "    else:\n",
        "      data[h]=prof\n",
        "with open(\"/content/drive/MyDrive/Colab Notebooks/p.json\",\"w\") as write_file:\n",
        "  json.dump(data,write_file)"
      ],
      "metadata": {
        "id": "cNChjrl6nX0J"
      },
      "execution_count": 10,
      "outputs": []
    }
  ]
}