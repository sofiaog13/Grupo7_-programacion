{
  "nbformat": 4,
  "nbformat_minor": 0,
  "metadata": {
    "colab": {
      "provenance": [],
      "collapsed_sections": []
    },
    "kernelspec": {
      "name": "python3",
      "display_name": "Python 3"
    },
    "language_info": {
      "name": "python"
    }
  },
  "cells": [
    {
      "cell_type": "markdown",
      "source": [
        "Ejercicios IF/For\n"
      ],
      "metadata": {
        "id": "BpT0XjvhrorY"
      }
    },
    {
      "cell_type": "markdown",
      "source": [
        "1.Escriba un algoritmo que dado un número entero, indique si este valor es par o impar."
      ],
      "metadata": {
        "id": "p-uzWJMarrYh"
      }
    },
    {
      "cell_type": "code",
      "source": [
        "num=int(input(\"Ingrese un numero entero:\")) #variable que almacena el numero ingresado por el usuario\n",
        "if num % 2==1: #se establece la condicion utilizando el operador % para de acuerdo con el resultado definir si el numero es par o impar\n",
        "  print('El numero es impar') #si el resultado es 1 se imprime en la consola que el numero es impar\n",
        "else: #si la primera condición no se cumple entonces se ejecuta otra acción\n",
        "  print('El número es par') #si el resultado es diferente de 1 se imprime en la consola que el numero es par"
      ],
      "metadata": {
        "id": "SIaSIeQRrvd2",
        "colab": {
          "base_uri": "https://localhost:8080/"
        },
        "outputId": "bfa7d76e-cae0-4aa3-82b7-4ad107101f9d"
      },
      "execution_count": 1,
      "outputs": [
        {
          "output_type": "stream",
          "name": "stdout",
          "text": [
            "Ingrese un numero entero:82\n",
            "El número es par\n"
          ]
        }
      ]
    },
    {
      "cell_type": "markdown",
      "source": [
        "2.Escriba un algoritmo que pida un número y también un porcentaje entre 0 y 100 que puede ser decimal,  el algoritmo debe entregar el cálculo del porcentaje del primer número, Si el usuario ingresa un dato fuera del rango  (0 a 100), debe mostrar un error y volver a pedir el porcentaje."
      ],
      "metadata": {
        "id": "WERMK-ahwMMW"
      }
    },
    {
      "cell_type": "code",
      "source": [
        "num=int(input(\"Ingrese un numero:\"))#variable que almacena el numero ingresado por el usuario\n",
        "p=float(input(\"Ingrese el porcentaje a calcular (valor entre 0 y 100, puede tener decimales):\"))#variable que almacena el porcentaje que el usuario desea calcular\n",
        "while p<0 or p>100: #bucle que se repetira indefinidas veces hasta que el porcentaje ingresado por el ususario no se pase de rango\n",
        "  print('Porcentaje fuera de rango') #la consola imprime un mensaje de error\n",
        "  p=float(input(\"Ingrese el porcentaje (entre 0 y 100) a calcular\"))#se vuelve a pedir al usuario que ingrese el porcentaje\n",
        "print('El',p,'% de',num,'es:',(p*num)/100)#se imprime en consola el resultado de la operacion"
      ],
      "metadata": {
        "id": "EyL7FMNLwRbF",
        "colab": {
          "base_uri": "https://localhost:8080/"
        },
        "outputId": "c476a933-dba2-4c2b-8208-d9ddfd97693f"
      },
      "execution_count": 2,
      "outputs": [
        {
          "output_type": "stream",
          "name": "stdout",
          "text": [
            "Ingrese un numero:20\n",
            "Ingrese el porcentaje a calcular (valor entre 0 y 100, puede tener decimales):16.5\n",
            "El 16.5 % de 20 es: 3.3\n"
          ]
        }
      ]
    },
    {
      "cell_type": "markdown",
      "source": [
        "3.Con base en el primer Ejercicio, si el número indicado es par, entregar todos los números pares entre el 0 y el número.\n"
      ],
      "metadata": {
        "id": "zP3DjRrf1hPx"
      }
    },
    {
      "cell_type": "code",
      "source": [
        "num=int(input(\"Ingrese un numero entero:\")) #variable que almacena el numero ingresado por el usuario\n",
        "if num % 2==0: #se establece la condicion utilizando el operador % para de acuerdo con el resultado definir si el numero es par o impar\n",
        "  print('El numero es par') #si el resultado es 0 imprime en la consola que el numero es par\n",
        "  for i in range(1,num//2):#ciclo el cual el rango se repite solo la mitad de numero ingresado,ya que solo se tomaran numeros pares\n",
        "    print(i*2)#se implimen los numero pares entre cero y el numero dado por el usuario\n",
        "else: #si la primera condición no se cumple entonces se ejecuta otra acción\n",
        "  print('El número es impar') #si el resultado es diferente de 0 se imprime en la consola que el numero es impar"
      ],
      "metadata": {
        "id": "LWYqZZwQ1q3d",
        "colab": {
          "base_uri": "https://localhost:8080/"
        },
        "outputId": "eced4897-195f-4134-a156-ec17830fb8f0"
      },
      "execution_count": 3,
      "outputs": [
        {
          "output_type": "stream",
          "name": "stdout",
          "text": [
            "Ingrese un numero entero:8\n",
            "El numero es par\n",
            "2\n",
            "4\n",
            "6\n"
          ]
        }
      ]
    },
    {
      "cell_type": "markdown",
      "source": [
        "4. Escriba un algoritmo que dado un número entero, entregue la suma de todos los números entre el 0 y el número dado.\n"
      ],
      "metadata": {
        "id": "swJWCrwQ1tb4"
      }
    },
    {
      "cell_type": "code",
      "source": [
        "print(\"Ingrese un numero entero:\") #Se pide al usuario un numero entero\n",
        "a=int(input()) #Se almacena la variable\n",
        "b=0 # Variable para almacenar la suma de numeros en el rango\n",
        "for i in range(0,a+1): #Rango entre 0 y el numero entero\n",
        " print(i) #Imprime todos los posibles valores de xd\n",
        " b=b+i #Suma de todas la iteraciones\n",
        "print(\"La suma es:\",b) #Se imprime en la consola el resultado "
      ],
      "metadata": {
        "id": "Ermlx4In1yYd",
        "colab": {
          "base_uri": "https://localhost:8080/"
        },
        "outputId": "2df286bc-6d32-46e8-ebac-15a8b24ef9bd"
      },
      "execution_count": 4,
      "outputs": [
        {
          "output_type": "stream",
          "name": "stdout",
          "text": [
            "Ingrese un numero entero:\n",
            "12\n",
            "0\n",
            "1\n",
            "2\n",
            "3\n",
            "4\n",
            "5\n",
            "6\n",
            "7\n",
            "8\n",
            "9\n",
            "10\n",
            "11\n",
            "12\n",
            "La suma es: 78\n"
          ]
        }
      ]
    }
  ]
}