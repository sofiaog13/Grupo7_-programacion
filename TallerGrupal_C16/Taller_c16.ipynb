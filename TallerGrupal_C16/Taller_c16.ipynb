{
  "nbformat": 4,
  "nbformat_minor": 0,
  "metadata": {
    "colab": {
      "provenance": [],
      "collapsed_sections": []
    },
    "kernelspec": {
      "name": "python3",
      "display_name": "Python 3"
    },
    "language_info": {
      "name": "python"
    }
  },
  "cells": [
    {
      "cell_type": "markdown",
      "source": [
        "1. Escribir un programa que pregunte al usuario su nombre, edad, dirección y teléfono, guarde la información en un diccionario.\n",
        "\n",
        " Después debe mostrar por pantalla el mensaje:\n",
        "< nombre > tiene < edad > años, vive en < dirección > y su número de teléfono es < teléfono >.\n"
      ],
      "metadata": {
        "id": "Dkbnn_QrjgU9"
      }
    },
    {
      "cell_type": "code",
      "execution_count": null,
      "metadata": {
        "colab": {
          "base_uri": "https://localhost:8080/"
        },
        "id": "Xp3OuDccjT-H",
        "outputId": "cfdf1f3c-99cf-419a-9e25-d672b071fff6"
      },
      "outputs": [
        {
          "output_type": "stream",
          "name": "stdout",
          "text": [
            "Ingrese su nombre:Carlos\n",
            "Ingrese su edad:17\n",
            "Ingrese su direccion:Suba\n",
            "Ingrese su telefono:31839203\n",
            "{'nombre': 'Carlos', 'edad': '17', 'direccion': 'Suba', 'telefono': '31839203'}\n",
            "Carlos tiene 17 años, vive en Suba y su número de telélefono es 31839203.\n"
          ]
        }
      ],
      "source": [
        "N=(input(\"Ingrese su nombre:\"))#se declara la variable donde se va a almacenar el nombre del usuario\n",
        "E=(input(\"Ingrese su edad:\"))#se declara la variable donde se va a almacenar la edad del usuario\n",
        "D=(input(\"Ingrese su direccion:\")) #se declara la variable donde se va a almacenar la dirección del usuario\n",
        "T=(input(\"Ingrese su telefono:\")) #se declara la variable donde se va a almacenar el telefono del usuario\n",
        "dicc={\"nombre\":N,\"edad\":E, \"direccion\":D, \"telefono\":T} #se crea un diccionario donde se almacenan todos los datos ingresados por el usuario\n",
        "print(dicc)#se imprime el diccionario para comprobar\n",
        "print(f\"{N} tiene {E} años, vive en {D} y su número de telélefono es {T}.\") #se imprime un mensaje que muestra la informacion que nos pide el problema"
      ]
    },
    {
      "cell_type": "markdown",
      "source": [
        "2.  Escribir un programa que pregunte una fecha actual y de nacimiento ‘dd/mm/aaaa’ y muestre por pantalla la misma fecha en formato “dia/mes/aaaa” y sus días de vida son <####>\n",
        "no tenga en cuenta años bisiestos, \n"
      ],
      "metadata": {
        "id": "DsroRDCCj0OT"
      }
    },
    {
      "cell_type": "code",
      "source": [
        "fnd=int(input('Ingrese su dia de nacimiento: '))#se declara la variable donde se va a aLmacenar el día de nacimiento\n",
        "fnm=int(input('Ingrese su mes de nacimiento: '))#se declara la variable donde se va a almacenar el mes de nacimiento\n",
        "fna=int(input('Ingrese su año de nacimiento: '))#se declara la variable donde se va a almacenar el año de nacimiento\n",
        "fad=int(input('Ingrese el dia actual: '))#se declara la variable donde se va a aLmacenar el día actual\n",
        "fam=int(input('Ingrese el mes actual: '))#se declara la variable donde se va a aLmacenar el mes actual\n",
        "faa=int(input('Ingrese el año actual: '))#se declara la variable donde se va a aLmacenar el año actual\n",
        "print('\\nLa fecha de nacimiento ingresada es:',fnd,\"/\",fnm,\"/\",fna,'\\nLa fecha actual ingresada es:',fad,\"/\",fam,\"/\",faa)#se imprimen las fechas ingresadas en formato dia/mes/aaaa\n",
        "meses={1:31,2:28,3:31,4:30,5:31,6:30,7:31,8:31,9:30,10:31,11:30,12:31}#crea un dictado donde las llaves son los meses y el valor cuantos días hay en estos\n",
        "dtn=meses.get(fnm)-fnd #Se resta los días del mes escogido con el numeros de dias de nacimiento\n",
        "for j in range(fnm,12):#Se crea un rango dentro del mes de nacimiento y el total de meses de 1 año. Conteo de dias restantes del año en el que nace la persona\n",
        "  j+=1 #Contador para que inicie el conteo un mes despues al mes de nacimiento\n",
        "  dtn+=meses.get(j)#Contador para cantidad de meses restantes del año de nacimiento\n",
        "dt=(faa)-(fna+1)#Resta del año actual con año el de nacimiento\n",
        "for i in range(1,fam):#se crea un ciclo for con un rango del primer mes del año actual hasta el mes actual\n",
        "  fad=fad+meses.get(i)#se crea un contador para los dias vividos en el año actual\n",
        "t=(dt*365)+fad+dtn #suma total de dias\n",
        "print(\"Usted lleva\",t,' dias de vida')#se imprime un mensaje con la variable t para mostrar el total de días vividos"
      ],
      "metadata": {
        "id": "t8uoZYuEj5Br",
        "colab": {
          "base_uri": "https://localhost:8080/"
        },
        "outputId": "f02e884c-7f85-41b3-8da6-86a2ed170f67"
      },
      "execution_count": 10,
      "outputs": [
        {
          "output_type": "stream",
          "name": "stdout",
          "text": [
            "Ingrese su dia de nacimiento: 4\n",
            "Ingrese su mes de nacimiento: 5\n",
            "Ingrese su año de nacimiento: 2004\n",
            "Ingrese el dia actual: 27\n",
            "Ingrese el mes actual: 10\n",
            "Ingrese el año actual: 2022\n",
            "\n",
            "La fecha de nacimiento ingresada es: 4 / 5 / 2004 \n",
            "La fecha actual ingresada es: 27 / 10 / 2022\n",
            "Usted lleva 6746  dias de vida\n"
          ]
        }
      ]
    },
    {
      "cell_type": "markdown",
      "source": [
        "3. Escribir un programa que administre un dictado de dictados, {1:{},2:{},,,,,,,#:{}}.\n",
        "Debe preguntar a cada usuario, tres datos (los que definan), y a partir de estos crear un dictado por usuario.\n",
        "\n",
        "El dictado será de esta manera:\n",
        "\n",
        "La clave será un entero respectivo al orden en que el usuario ingresa los datos.\n",
        "\n",
        "El valor será un dictado con los tres datos del usuario elegidos.\n",
        "{‘dato1’:857,‘dato2’:True,‘dato3’:’dffd’}\n",
        "\n",
        "Ejemplo:\n",
        "\n",
        "{0:{‘dato1’:857,‘dato2’:True,‘dato3’:’dffd’},1:{‘dato1’:857,‘dato2’:True,‘dato3’:’dffd’}}\n",
        "\n",
        "Al final el programa imprimirá el primer(mínimo) usuario y el último(máximo) usuario con sus respectivos datos.\n"
      ],
      "metadata": {
        "id": "hlP3uCs4j4aT"
      }
    },
    {
      "cell_type": "code",
      "source": [
        "dicc={}#se crea un diccionario vacio \n",
        "cont=0#se decalra la variable contador que va a indicar el numero de usuarios que ingresen los datos\n",
        "m=int(input(\"Ingrese 1 para ingresar sus datos o ingrese 0 para salir:\"))#se declara la variable m para determinar el numero de ingresos que se realizaran\n",
        "while m==1:#se crea un ciclo while que va a funcionar hasta que el usuario ingrese 0\n",
        "  N=(input(\"Ingrese su nombre:\"))#se declara la variable para almacenar el primer dato ingresado por el usuario\n",
        "  E=int(input(\"Ingrese su edad:\"))#se declara la variable para almacenar el segundo dato ingresado por el usuario\n",
        "  C=(input(\"Ingrese su color favorito:\"))#se declara la variable para almacenar el tercer dato ingresado por el usuario\n",
        "  dicc[cont]={\"nombre\":N,\"edad\":E,\"color favorito\":C} #se guarda el dato del contador(numero de usuario)como un elemento al que le corresponde los datos ingresados por el ususario\n",
        "  cont+=1#se suma 1 al contador\n",
        "  m=int(input(\"Ingrese 1 para ingresar sus datos o ingrse 0 para salir:\"))#se pregunta al usuario si desea continuar\n",
        "print(dicc)#se imprime el contenido del diccionario para comprobar\n",
        "print('el primer usuario fue:', min(dicc.items()), \"y el último usuario fue:\", max(dicc.items()))#se imprime el primer y ultimo usuario "
      ],
      "metadata": {
        "colab": {
          "base_uri": "https://localhost:8080/"
        },
        "id": "Zb0sdnvRkHwL",
        "outputId": "dac86a61-d816-4579-a236-88c8a0d4a0a9"
      },
      "execution_count": null,
      "outputs": [
        {
          "output_type": "stream",
          "name": "stdout",
          "text": [
            "Ingrese 1 para ingresar sus datos o ingrese 0 para salir:1\n",
            "Ingrese su nombre:Sofia\n",
            "Ingrese su edad:18\n",
            "Ingrese su color favorito:azul\n",
            "Ingrese 1 para ingresar sus datos o ingrse 0 para salir:1\n",
            "Ingrese su nombre:Pedro\n",
            "Ingrese su edad:21\n",
            "Ingrese su color favorito:negro\n",
            "Ingrese 1 para ingresar sus datos o ingrse 0 para salir:1\n",
            "Ingrese su nombre:Milton\n",
            "Ingrese su edad:17\n",
            "Ingrese su color favorito:rojo\n",
            "Ingrese 1 para ingresar sus datos o ingrse 0 para salir:0\n",
            "{0: {'nombre': 'Sofia', 'edad': 18, 'color favorito': 'azul'}, 1: {'nombre': 'Pedro', 'edad': 21, 'color favorito': 'negro'}, 2: {'nombre': 'Milton', 'edad': 17, 'color favorito': 'rojo'}}\n",
            "el primer usuario fue: (0, {'nombre': 'Sofia', 'edad': 18, 'color favorito': 'azul'}) y el último usuario fue: (2, {'nombre': 'Milton', 'edad': 17, 'color favorito': 'rojo'})\n"
          ]
        }
      ]
    }
  ]
}